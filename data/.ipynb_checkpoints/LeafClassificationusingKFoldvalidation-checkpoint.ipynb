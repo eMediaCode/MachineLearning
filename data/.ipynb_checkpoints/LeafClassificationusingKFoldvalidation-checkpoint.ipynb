{
 "cells": [
  {
   "cell_type": "code",
   "execution_count": 21,
   "metadata": {},
   "outputs": [],
   "source": [
    "import pandas as pd\n",
    "import numpy as np\n",
    "\n",
    "dataset = pd.read_csv('train.csv',index_col=0)"
   ]
  },
  {
   "cell_type": "code",
   "execution_count": 22,
   "metadata": {},
   "outputs": [],
   "source": [
    "import sklearn.linear_model as lm\n",
    "from sklearn.model_selection import StratifiedKFold\n",
    "from sklearn.metrics import log_loss"
   ]
  },
  {
   "cell_type": "code",
   "execution_count": 23,
   "metadata": {},
   "outputs": [],
   "source": [
    "y = dataset.species\n",
    "\n",
    "from sklearn import preprocessing\n",
    "le = preprocessing.LabelEncoder()\n",
    "if y.dtype == object:\n",
    "    y = le.fit_transform(y)\n",
    "else:\n",
    "    pass"
   ]
  },
  {
   "cell_type": "code",
   "execution_count": 24,
   "metadata": {},
   "outputs": [
    {
     "name": "stderr",
     "output_type": "stream",
     "text": [
      "/opt/conda/lib/python3.6/site-packages/ipykernel_launcher.py:2: DeprecationWarning: \n",
      ".ix is deprecated. Please use\n",
      ".loc for label based indexing or\n",
      ".iloc for positional indexing\n",
      "\n",
      "See the documentation here:\n",
      "http://pandas.pydata.org/pandas-docs/stable/indexing.html#ix-indexer-is-deprecated\n",
      "  \n"
     ]
    }
   ],
   "source": [
    "X = dataset.drop('species', axis=1)\n",
    "X = (dataset.ix[:,1:].values).astype('float32')"
   ]
  },
  {
   "cell_type": "code",
   "execution_count": 26,
   "metadata": {},
   "outputs": [
    {
     "name": "stdout",
     "output_type": "stream",
     "text": [
      "Log loss for fold 1= 4.179430033221389\n"
     ]
    },
    {
     "name": "stderr",
     "output_type": "stream",
     "text": [
      "/opt/conda/lib/python3.6/site-packages/scipy/optimize/linesearch.py:312: LineSearchWarning: The line search algorithm did not converge\n",
      "  warn('The line search algorithm did not converge', LineSearchWarning)\n",
      "/opt/conda/lib/python3.6/site-packages/sklearn/utils/optimize.py:195: UserWarning: Line Search failed\n",
      "  warnings.warn('Line Search failed')\n"
     ]
    },
    {
     "name": "stdout",
     "output_type": "stream",
     "text": [
      "Log loss for fold 2= 4.1698608723553745\n",
      "Log loss for fold 3= 4.181611604160732\n",
      "Log loss for fold 4= 4.17900683061041\n",
      "Log loss for fold 5= 4.1701799318043875\n",
      "Average log loss is 4.176017854430459\n"
     ]
    }
   ],
   "source": [
    "#Splitting data to 5 sets and performing multinomial regression on each\n",
    "skf = StratifiedKFold(n_splits=5)\n",
    "skf.get_n_splits(X, y)\n",
    "\n",
    "StratifiedKFold(n_splits=5, random_state=None, shuffle=False)\n",
    "\n",
    "log_loss_total = []\n",
    "i=0\n",
    "\n",
    "for train_index, test_index in skf.split(X, y):    \n",
    "    X_train = []\n",
    "    X_test = []\n",
    "    X_train, X_test, y_train, y_test = (X[train_index], X[test_index], y[train_index], y[test_index])\n",
    "    lgr = lm.LogisticRegression(multi_class = 'multinomial', solver = 'newton-cg')\n",
    "    lgr.fit(X_train, y_train)\n",
    "    y_predicted = lgr.predict_proba(X_test)\n",
    "    logLoss = log_loss(y_test, y_predicted)\n",
    "    log_loss_total.append(logLoss)\n",
    "    i += 1\n",
    "    print(\"Log loss for fold \" + str(i) + \"= \" + str(logLoss))\n",
    "\n",
    "log_loss_mean = np.mean(log_loss_total)\n",
    "print(\"Average log loss is \" + str(log_loss_mean))\n",
    "\n",
    "\n",
    "    "
   ]
  },
  {
   "cell_type": "code",
   "execution_count": null,
   "metadata": {},
   "outputs": [],
   "source": [
    "#Predicting the value for the test data\n",
    "\n",
    "test_dataset = pd.read_csv('test.csv',index_col=0)\n",
    "y_test_dataset = dataset.species\n",
    "\n",
    "from sklearn import preprocessing\n",
    "le = preprocessing.LabelEncoder()\n",
    "if y_test_dataset.dtype == object:\n",
    "    y_test_dataset = le.fit_transform(y)\n",
    "else:\n",
    "    pass\n",
    "\n",
    "X_test_dataset = dataset.drop('species', axis=1)\n",
    "X_test_dataset = (dataset.ix[:,1:].values).astype('float32')\n",
    "y_pred_test = lgr.predict_proba(X_test_dataset)\n",
    "log_loss_test = log_loss(y_test_dataset,y_pred_test)\n",
    "print(\"log loss for the test data using Multinomial regression= \" + str(log_loss_test))"
   ]
  }
 ],
 "metadata": {
  "kernelspec": {
   "display_name": "Python 3",
   "language": "python",
   "name": "python3"
  },
  "language_info": {
   "codemirror_mode": {
    "name": "ipython",
    "version": 3
   },
   "file_extension": ".py",
   "mimetype": "text/x-python",
   "name": "python",
   "nbconvert_exporter": "python",
   "pygments_lexer": "ipython3",
   "version": "3.6.4"
  }
 },
 "nbformat": 4,
 "nbformat_minor": 2
}
