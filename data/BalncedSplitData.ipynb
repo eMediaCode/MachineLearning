{
 "cells": [
  {
   "cell_type": "code",
   "execution_count": 14,
   "metadata": {
    "scrolled": false
   },
   "outputs": [
    {
     "name": "stdout",
     "output_type": "stream",
     "text": [
      "{'Quercus_Texana', 'Quercus_Agrifolia', 'Cercis_Siliquastrum', 'Castanea_Sativa', 'Eucalyptus_Urnigera', 'Quercus_Crassipes', 'Quercus_Ellipsoidalis', 'Quercus_Infectoria_sub', 'Populus_Adenopoda', 'Alnus_Rubra', 'Quercus_Shumardii', 'Alnus_Viridis', 'Prunus_Avium', 'Eucalyptus_Neglecta', 'Quercus_Pyrenaica', 'Quercus_Phellos', 'Magnolia_Salicifolia', 'Acer_Circinatum', 'Tilia_Platyphyllos', 'Olea_Europaea', 'Prunus_X_Shmittii', 'Tilia_Oliveri', 'Acer_Rufinerve', 'Quercus_Hartwissiana', 'Betula_Austrosinensis', 'Alnus_Maximowiczii', 'Ginkgo_Biloba', 'Quercus_Greggii', 'Acer_Capillipes', 'Betula_Pendula', 'Zelkova_Serrata', 'Quercus_Coccinea', 'Quercus_Variabilis', 'Tilia_Tomentosa', 'Quercus_Castaneifolia', 'Acer_Saccharinum', 'Morus_Nigra', 'Callicarpa_Bodinieri', 'Quercus_Chrysolepis', 'Cornus_Chinensis', 'Pterocarya_Stenoptera', 'Cotinus_Coggygria', 'Rhododendron_x_Russellianum', 'Quercus_Pubescens', 'Quercus_Nigra', 'Salix_Intergra', 'Populus_Nigra', 'Acer_Mono', 'Arundinaria_Simonii', 'Quercus_Rubra', 'Quercus_Palustris', 'Quercus_x_Turneri', 'Crataegus_Monogyna', 'Viburnum_Tinus', 'Acer_Pictum', 'Populus_Grandidentata', 'Sorbus_Aria', 'Quercus_Vulcanica', 'Fagus_Sylvatica', 'Quercus_Brantii', 'Viburnum_x_Rhytidophylloides', 'Ulmus_Bergmanniana', 'Cytisus_Battandieri', 'Quercus_Rhysophylla', 'Quercus_Kewensis', 'Ilex_Aquifolium', 'Acer_Palmatum', 'Quercus_Pontica', 'Quercus_Trojana', 'Cornus_Controversa', 'Lithocarpus_Cleistocarpus', 'Quercus_Imbricaria', 'Phildelphus', 'Magnolia_Heptapeta', 'Eucalyptus_Glaucescens', 'Cornus_Macrophylla', 'Ilex_Cornuta', 'Acer_Opalus', 'Quercus_Dolicholepis', 'Acer_Platanoids', 'Quercus_Suber', 'Celtis_Koraiensis', 'Alnus_Cordata', 'Quercus_Coccifera', 'Quercus_Ilex', 'Salix_Fragilis', 'Quercus_Phillyraeoides', 'Acer_Rubrum', 'Quercus_Crassifolia', 'Lithocarpus_Edulis', 'Alnus_Sieboldiana', 'Quercus_Semecarpifolia', 'Quercus_Cerris', 'Liriodendron_Tulipifera', 'Liquidambar_Styraciflua', 'Quercus_x_Hispanica', 'Quercus_Canariensis', 'Quercus_Alnifolia', 'Quercus_Afares'}\n",
      "{'Quercus_Texana', 'Quercus_Agrifolia', 'Cercis_Siliquastrum', 'Castanea_Sativa', 'Eucalyptus_Urnigera', 'Quercus_Crassipes', 'Quercus_Ellipsoidalis', 'Quercus_Infectoria_sub', 'Populus_Adenopoda', 'Alnus_Rubra', 'Quercus_Shumardii', 'Alnus_Viridis', 'Prunus_Avium', 'Eucalyptus_Neglecta', 'Quercus_Pyrenaica', 'Quercus_Phellos', 'Magnolia_Salicifolia', 'Tilia_Platyphyllos', 'Acer_Circinatum', 'Olea_Europaea', 'Acer_Rufinerve', 'Tilia_Oliveri', 'Prunus_X_Shmittii', 'Quercus_Hartwissiana', 'Betula_Austrosinensis', 'Alnus_Maximowiczii', 'Ginkgo_Biloba', 'Quercus_Greggii', 'Betula_Pendula', 'Acer_Capillipes', 'Zelkova_Serrata', 'Quercus_Coccinea', 'Quercus_Variabilis', 'Tilia_Tomentosa', 'Quercus_Castaneifolia', 'Acer_Saccharinum', 'Morus_Nigra', 'Callicarpa_Bodinieri', 'Quercus_Chrysolepis', 'Cotinus_Coggygria', 'Pterocarya_Stenoptera', 'Cornus_Chinensis', 'Rhododendron_x_Russellianum', 'Quercus_Pubescens', 'Quercus_Nigra', 'Salix_Intergra', 'Populus_Nigra', 'Acer_Mono', 'Arundinaria_Simonii', 'Quercus_Rubra', 'Quercus_Palustris', 'Quercus_x_Turneri', 'Crataegus_Monogyna', 'Viburnum_Tinus', 'Acer_Pictum', 'Populus_Grandidentata', 'Sorbus_Aria', 'Fagus_Sylvatica', 'Quercus_Vulcanica', 'Quercus_Brantii', 'Viburnum_x_Rhytidophylloides', 'Ulmus_Bergmanniana', 'Cytisus_Battandieri', 'Quercus_Rhysophylla', 'Quercus_Kewensis', 'Ilex_Aquifolium', 'Acer_Palmatum', 'Quercus_Pontica', 'Quercus_Trojana', 'Cornus_Controversa', 'Lithocarpus_Cleistocarpus', 'Quercus_Imbricaria', 'Phildelphus', 'Magnolia_Heptapeta', 'Eucalyptus_Glaucescens', 'Cornus_Macrophylla', 'Ilex_Cornuta', 'Acer_Opalus', 'Quercus_Dolicholepis', 'Acer_Platanoids', 'Quercus_Suber', 'Celtis_Koraiensis', 'Alnus_Cordata', 'Quercus_Coccifera', 'Quercus_Ilex', 'Salix_Fragilis', 'Acer_Rubrum', 'Quercus_Phillyraeoides', 'Quercus_Crassifolia', 'Lithocarpus_Edulis', 'Alnus_Sieboldiana', 'Quercus_Semecarpifolia', 'Liriodendron_Tulipifera', 'Quercus_Cerris', 'Liquidambar_Styraciflua', 'Quercus_x_Hispanica', 'Quercus_Canariensis', 'Quercus_Alnifolia', 'Quercus_Afares'}\n"
     ]
    }
   ],
   "source": [
    "import pandas as pd\n",
    "\n",
    "dataset = pd.read_csv('train.csv',index_col=0)\n",
    "\n",
    "y = dataset.species.values\n",
    "X = dataset.drop('species', axis=1).values\n",
    "from sklearn.model_selection import StratifiedShuffleSplit\n",
    "\n",
    "sss = StratifiedShuffleSplit(n_splits = 1, test_size=0.2, random_state=0)\n",
    "sss.get_n_splits(X, y)\n",
    "X_train_index = []\n",
    "X_test_index = []\n",
    "for train_index, test_index in sss.split(X, y):    \n",
    "    X_train_index, X_test_index, y_train_index, y_test_index = (X[train_index], X[test_index], y[train_index], y[test_index])\n",
    "\n",
    "\n",
    "testset = set(y_test_index)\n",
    "trainset = set(y_train_index)\n",
    "print(testset)\n",
    "print(trainset)\n",
    "\n",
    "    \n",
    "#df = pd.DataFrame(X[X_test_index])"
   ]
  },
  {
   "cell_type": "code",
   "execution_count": null,
   "metadata": {},
   "outputs": [],
   "source": []
  }
 ],
 "metadata": {
  "kernelspec": {
   "display_name": "Python 3",
   "language": "python",
   "name": "python3"
  },
  "language_info": {
   "codemirror_mode": {
    "name": "ipython",
    "version": 3
   },
   "file_extension": ".py",
   "mimetype": "text/x-python",
   "name": "python",
   "nbconvert_exporter": "python",
   "pygments_lexer": "ipython3",
   "version": "3.6.4"
  }
 },
 "nbformat": 4,
 "nbformat_minor": 2
}
